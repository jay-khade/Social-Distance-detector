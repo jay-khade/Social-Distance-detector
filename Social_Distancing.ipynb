{
 "cells": [
  {
   "cell_type": "markdown",
   "metadata": {},
   "source": [
    "# The Sparks Foundation - GRIP\n",
    "## Computer Vision & Internet of Things"
   ]
  },
  {
   "cell_type": "markdown",
   "metadata": {},
   "source": [
    "# Task 3: Social Distancing detector\n",
    "\n",
    "## Implement a real time Social Distancing detector which can identify the distance between two individuals in a crowd."
   ]
  },
  {
   "cell_type": "markdown",
   "metadata": {},
   "source": [
    "# All the concepts related to this project and the implementation part I learned from the [Pyimagesearch](https://www.pyimagesearch.com) Website."
   ]
  },
  {
   "cell_type": "markdown",
   "metadata": {},
   "source": [
    "### Created by: Jay Khade"
   ]
  },
  {
   "cell_type": "code",
   "execution_count": null,
   "metadata": {
    "id": "LL9tFt6FU5TF"
   },
   "outputs": [],
   "source": [
    "# importing libraries\n",
    "\n",
    "import numpy as np\n",
    "import cv2\n",
    "import matplotlib.pyplot as plt\n",
    "from scipy.spatial import distance as dist\n",
    "import imutils\n",
    "import os"
   ]
  },
  {
   "cell_type": "markdown",
   "metadata": {},
   "source": [
    "# structure of the Project\n",
    "\n",
    "## Input Image --->  Object Detection --->  Pairwise distance between centroids ---> Comparision with safe distance ---> Results "
   ]
  },
  {
   "cell_type": "markdown",
   "metadata": {},
   "source": [
    "## definig constants"
   ]
  },
  {
   "cell_type": "code",
   "execution_count": null,
   "metadata": {
    "id": "yM0-M8IFEd81"
   },
   "outputs": [],
   "source": [
    "\n",
    "\n",
    "# path to YOLO directory\n",
    "MODEL_PATH = \"yolo-coco\"\n",
    "\n",
    "# min probablity of filter to called as weak\n",
    "MIN_CONF = 0.3\n",
    "\n",
    "#non maxima supression threshold\n",
    "NMS_THRESH =0.3\n",
    "\n",
    "# min safe distance that  people can have between them in\n",
    "MIN_DISTANCE = 50\n",
    "\n",
    "# import yolo model\n",
    "configPath = \"yolo-coco/yolov3.cfg\"\n",
    "weightsPath = \"yolo-coco/yolov3.weights\"\n",
    "labelsPath = \"yolo-coco/coco.names\"\n",
    "videopath = \"Social_Distancing.mp4\"\n",
    "output = \"output.avi\"\n",
    "personIdx = 0\n",
    "display = 0"
   ]
  },
  {
   "cell_type": "markdown",
   "metadata": {},
   "source": [
    "## function to detect people"
   ]
  },
  {
   "cell_type": "code",
   "execution_count": null,
   "metadata": {
    "id": "wtI3Y34C9enT"
   },
   "outputs": [],
   "source": [
    "\n",
    "\n",
    "def detect_people(frame, net, ln, personIdx=0):\n",
    "  # grab the dimensions of the frame and  initialize the list of\n",
    "  # results\n",
    "  (H, W) = frame.shape[:2]\n",
    "  results = []\n",
    "\n",
    "  # construct a blob from the input frame and then perform a forward\n",
    "  # pass of the YOLO object detector, giving us our bounding boxes\n",
    "  # and associated probabilities\n",
    "\n",
    "  blob = cv2.dnn.blobFromImage(frame, 1 / 255.0, (416, 416), swapRB=True, crop=False)\n",
    "  net.setInput(blob)\n",
    "  layerOutputs = net.forward(ln)\n",
    "\n",
    "\n",
    "  # initialize our lists of detected bounding boxes, centroids, and\n",
    "  # confidences, respectively\n",
    "  boxes = []\n",
    "  centroids = []\n",
    "  confidences = []\n",
    "\n",
    "  # loop over each of the layer outputs\n",
    "  for output in layerOutputs:\n",
    "\n",
    "    # loop over each of the detections\n",
    "    for detection in output:\n",
    "\n",
    "      # extract the class ID and confidence (i.e., probability)\n",
    "      # of the current object detection\n",
    "      scores = detection[5:]\n",
    "      classID = np.argmax(scores)\n",
    "      confidence = scores[classID]\n",
    "\n",
    "      # filter detections by (1) ensuring that the object\n",
    "      # detected was a person and (2) that the minimum\n",
    "      # confidence is met\n",
    "      if classID == personIdx and confidence > MIN_CONF:\n",
    "\n",
    "        # scale the bounding box coordinates back relative to\n",
    "        # the size of the image, keeping in mind that YOLO\n",
    "        # actually returns the center (x, y)-coordinates of\n",
    "        # the bounding box followed by the boxes' width and\n",
    "        # height\n",
    "        box = detection[0:4] * np.array([W, H, W, H])\n",
    "        (centerX, centerY, width, height) = box.astype(\"int\")\n",
    "\n",
    "        # use the center (x, y)-coordinates to derive the top\n",
    "        # and left corner of the bounding box\n",
    "        x = int(centerX - (width / 2))\n",
    "        y = int(centerY - (height / 2))\n",
    "\n",
    "        # update our list of bounding box coordinates,\n",
    "        # centroids, and confidences\n",
    "        boxes.append([x, y, int(width), int(height)])\n",
    "        centroids.append((centerX, centerY))\n",
    "        confidences.append(float(confidence))\n",
    "\n",
    "  # apply non-maxima suppression to suppress weak, overlapping\n",
    "  # bounding boxes\n",
    "  idxs = cv2.dnn.NMSBoxes(boxes, confidences, MIN_CONF, NMS_THRESH)\n",
    "\n",
    "  # ensure at least one detection exists\n",
    "  if len(idxs) > 0:\n",
    "\n",
    "    # loop over the indexes we are keeping\n",
    "    for i in idxs.flatten():\n",
    "      # extract the bounding box coordinates\n",
    "      (x, y) = (boxes[i][0], boxes[i][1])\n",
    "      (w, h) = (boxes[i][2], boxes[i][3])\n",
    "      # update our results list to consist of the person\n",
    "      # prediction probability, bounding box coordinates,\n",
    "      # and the centroid\n",
    "      r = (confidences[i], (x, y, x + w, y + h), centroids[i])\n",
    "      results.append(r)\n",
    "\n",
    "  # return the list of results\n",
    "  return results"
   ]
  },
  {
   "cell_type": "code",
   "execution_count": null,
   "metadata": {
    "id": "Q1RoAg3-okJd"
   },
   "outputs": [],
   "source": [
    "# loading labels\n",
    "LABELS = open(labelsPath).read().strip().split(\"\\n\")"
   ]
  },
  {
   "cell_type": "markdown",
   "metadata": {},
   "source": [
    "## YOLO Object detector"
   ]
  },
  {
   "cell_type": "code",
   "execution_count": null,
   "metadata": {
    "colab": {
     "base_uri": "https://localhost:8080/"
    },
    "id": "77e1774hqXt1",
    "outputId": "64007e8e-b0d3-4c3b-f6f3-320b42806f94"
   },
   "outputs": [],
   "source": [
    "# load our YOLO object detector trained on COCO dataset (80 classes)\n",
    "print(\"[INFO] loading YOLO from disk...\")\n",
    "net = cv2.dnn.readNetFromDarknet(configPath, weightsPath)"
   ]
  },
  {
   "cell_type": "code",
   "execution_count": null,
   "metadata": {
    "id": "5cAMZAOzqhoI"
   },
   "outputs": [],
   "source": [
    "# determine only the *output* layer names that we need from YOLO\n",
    "ln = net.getLayerNames()\n",
    "ln = [ln[i[0] - 1] for i in net.getUnconnectedOutLayers()]"
   ]
  },
  {
   "cell_type": "code",
   "execution_count": null,
   "metadata": {
    "colab": {
     "base_uri": "https://localhost:8080/"
    },
    "id": "c81copHzqme3",
    "outputId": "bb950f24-416e-4619-e999-2ab442786eea"
   },
   "outputs": [],
   "source": [
    "# initialize the video stream and pointer to output video file\n",
    "print(\"[INFO] accessing video stream...\")\n",
    "vs = cv2.VideoCapture(videopath)\n",
    "writer = None"
   ]
  },
  {
   "cell_type": "markdown",
   "metadata": {},
   "source": [
    "## Frame Processing and Output"
   ]
  },
  {
   "cell_type": "code",
   "execution_count": null,
   "metadata": {
    "id": "5X97JVoGqt3w"
   },
   "outputs": [],
   "source": [
    "while True:\n",
    "  # Read the next frame from the file\n",
    "  (grabbed, frame) = vs.read()\n",
    "    \n",
    "  # Grab frames from the video stream until we have reached the end frame\n",
    "  if not grabbed:\n",
    "    break\n",
    "    \n",
    "  # Resize the frame and then detect people (and only people) in it\n",
    "  frame = imutils.resize(frame, width=700)\n",
    "  results = detect_people(frame, net, ln, personIdx=LABELS.index(\"person\"))\n",
    "\n",
    "  # Initialize the set of indexes that violate the minimum social distance\n",
    "  violate = set()\n",
    "\n",
    "  # Ensure that there at least two people detections (required in order to\n",
    "  # compute the pairwise distance maps)\n",
    "  if len(results) >= 2:\n",
    "    # Extract all centroids from the results and compute the Euclidean distance between all pairs of centroids\n",
    "    centroids = np.array([r[2] for r in results])\n",
    "    D = dist.cdist(centroids, centroids, metric=\"euclidean\")\n",
    "    \n",
    "    # Loop over the upper triangular of the distance matrix\n",
    "    for i in range(0, D.shape[0]):\n",
    "      for j in range(i + 1, D.shape[1]):\n",
    "      # Check to see if the distance between any two centroid pairs is less than the configured number\n",
    "      # of pixels\n",
    "        if D[i, j] < MIN_DISTANCE:\n",
    "          # Update the violation set with the indexes of the centroid pairs\n",
    "          violate.add(i)\n",
    "          violate.add(j)\n",
    "        \n",
    "    # Loop over the results\n",
    "    for (i, (prob, bbox, centroid)) in enumerate(results):\n",
    "      # Extract the bounding box and centroid coordinates, then initialize the color of the annotation\n",
    "      (startX, startY, endX, endY) = bbox\n",
    "      (cX, cY) = centroid\n",
    "      color = (0, 255, 0)\n",
    "        \n",
    "      # If the index pair exists within the violation set, then update the color\n",
    "      if i in violate:\n",
    "        color = (0, 0, 255)\n",
    "        \n",
    "      # Draw (1) a bounding box around the person and (2) the centroid coordinates of the person,\n",
    "      cv2.rectangle(frame, (startX, startY), (endX, endY), color, 2)\n",
    "      cv2.circle(frame, (cX, cY), 5, color, 1)\n",
    "\n",
    "    # Draw the total number of social distancing violations on the output frame\n",
    "    text = \"Social Distancing Violations: {}\".format(len(violate))\n",
    "    cv2.putText(frame, text, (10, frame.shape[0] - 25), cv2.FONT_HERSHEY_SIMPLEX, 0.85, (0, 0, 255), 3)\n",
    "    \n",
    "    # Check to see if the output frame should be displayed in the screen\n",
    "    if display > 0:\n",
    "      # Show the output frame\n",
    "      cv2.imshow(\"Frame\", frame)\n",
    "      key = cv2.waitKey(1) & 0xFF\n",
    "      # If the `q` key was pressed, break from the loop\n",
    "      if key == ord(\"q\"):\n",
    "        break\n",
    "        \n",
    "    # If an output video file path has been supplied and the video writer has not been initialized, do so now\n",
    "    if display != \"\" and writer is None:\n",
    "      # Initialize the video writer\n",
    "      fourcc = cv2.VideoWriter_fourcc(*\"MJPG\")\n",
    "      writer = cv2.VideoWriter(output, fourcc, 25, (frame.shape[1], frame.shape[0]), True)\n",
    "    # If the video writer is not None, write the frame to the output video file\n",
    "    if writer is not None:\n",
    "      writer.write(frame)"
   ]
  }
 ],
 "metadata": {
  "colab": {
   "name": "Social_Distancing.ipynb",
   "provenance": []
  },
  "kernelspec": {
   "display_name": "Python 3",
   "language": "python",
   "name": "python3"
  },
  "language_info": {
   "codemirror_mode": {
    "name": "ipython",
    "version": 3
   },
   "file_extension": ".py",
   "mimetype": "text/x-python",
   "name": "python",
   "nbconvert_exporter": "python",
   "pygments_lexer": "ipython3",
   "version": "3.7.7"
  }
 },
 "nbformat": 4,
 "nbformat_minor": 1
}
